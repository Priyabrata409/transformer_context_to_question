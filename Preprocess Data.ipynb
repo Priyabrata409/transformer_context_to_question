{
 "cells": [
  {
   "cell_type": "code",
   "execution_count": 7,
   "id": "a45f03eb-aa92-4389-9e91-464f105363b7",
   "metadata": {},
   "outputs": [],
   "source": [
    "import pandas as pd\n",
    "import gzip\n",
    "from sklearn.model_selection import train_test_split\n",
    "import os\n",
    "from tqdm.auto import tqdm"
   ]
  },
  {
   "cell_type": "code",
   "execution_count": 8,
   "id": "0a121f76-b3ed-4f5e-88c3-7b66c100bedc",
   "metadata": {},
   "outputs": [],
   "source": [
    "\n",
    "def parse(path):\n",
    "    g = gzip.open(path, 'rb')\n",
    "    for l in g:\n",
    "        yield eval(l)\n",
    "\n",
    "\n",
    "def getDF(path):\n",
    "    i = 0\n",
    "    df = {}\n",
    "    for d in parse(path):\n",
    "        df[i] = d\n",
    "        i += 1\n",
    "\n",
    "    return pd.DataFrame.from_dict(df, orient='index')"
   ]
  },
  {
   "cell_type": "code",
   "execution_count": 10,
   "id": "d5e2482c-2421-45d1-916d-c7260db1f870",
   "metadata": {},
   "outputs": [
    {
     "data": {
      "application/vnd.jupyter.widget-view+json": {
       "model_id": "9c07a6c42c3f4b9fa72276bd36c0f6d9",
       "version_major": 2,
       "version_minor": 0
      },
      "text/plain": [
       "  0%|          | 0/3 [00:00<?, ?it/s]"
      ]
     },
     "metadata": {},
     "output_type": "display_data"
    },
    {
     "name": "stdout",
     "output_type": "stream",
     "text": [
      "                                             question  \\\n",
      "46                                  filter for vicks3   \n",
      "48  I have not purchased the humidifier that uses ...   \n",
      "50  I need to replace a Holmes wick HWF-65T. Does ...   \n",
      "52  will this be replacement for holmes model hm 1...   \n",
      "54  I would like to buy at least 5 filters. Could ...   \n",
      "\n",
      "                                               answer  \\\n",
      "46  Filter for vicks3 is NOT a question. What are ...   \n",
      "48  The outer shell will fall apart in about a yea...   \n",
      "50  The only humidifiers that this will fit are Su...   \n",
      "52  Its generic and does not work in a Holmes humi...   \n",
      "54  Hi: yes, we would bundle all 5 filters and cha...   \n",
      "\n",
      "                                          description  \n",
      "46  [Keep your air humidifier operating at peak ef...  \n",
      "48  [Keep your air humidifier operating at peak ef...  \n",
      "50  [Keep your air humidifier operating at peak ef...  \n",
      "52  [Keep your air humidifier operating at peak ef...  \n",
      "54  [Keep your air humidifier operating at peak ef...  \n",
      "                                             question  \\\n",
      "16                 Can it be used in a laser printer?   \n",
      "18                   Is this for dark fabric or white   \n",
      "20  Has anyone tried to transfer drawings using th...   \n",
      "22           Are these transparancies white or clear?   \n",
      "24  do i need a commercial heat press for printing...   \n",
      "\n",
      "                                               answer  \\\n",
      "16  No it doesnt work with a laser printer so I ha...   \n",
      "18  I purchased with the intent to use on dark fab...   \n",
      "20  I'm not sure but it doesn't hold up very well....   \n",
      "22  They are rather translucent. But really you do...   \n",
      "24  just a iron will do. I foyu ar printing on dar...   \n",
      "\n",
      "                                          description  \n",
      "16  [HP Iron-on Transfers are suitable for cotton ...  \n",
      "18  [HP Iron-on Transfers are suitable for cotton ...  \n",
      "20  [HP Iron-on Transfers are suitable for cotton ...  \n",
      "22  [HP Iron-on Transfers are suitable for cotton ...  \n",
      "24  [HP Iron-on Transfers are suitable for cotton ...  \n",
      "                                              question  \\\n",
      "112                           Is Carmol #40 available?   \n",
      "114                        do you need a prescription?   \n",
      "687                      Can this be used on wet hair?   \n",
      "689  has anyone else had a lot of the \"brisles\" bre...   \n",
      "691  Does it work for really long hair? I have fine...   \n",
      "\n",
      "                                                answer  \\\n",
      "112                                     Only 10 and 20   \n",
      "114                 No a prescription is not required.   \n",
      "687  No, only on dry hair. It is similar to a regul...   \n",
      "689  very much a problem for me. I had a handful br...   \n",
      "691  I do not have real long hair. It would work fi...   \n",
      "\n",
      "                                           description  \n",
      "112  [<P><B>CARMOL 20:<BR></B><UL><LI>20% Carbamide...  \n",
      "114  [<P><B>CARMOL 20:<BR></B><UL><LI>20% Carbamide...  \n",
      "687  [Helen of Troy 1514 Brush Iron, White, 1 1/2 I...  \n",
      "689  [Helen of Troy 1514 Brush Iron, White, 1 1/2 I...  \n",
      "691  [Helen of Troy 1514 Brush Iron, White, 1 1/2 I...  \n"
     ]
    }
   ],
   "source": [
    "\n",
    "categories = [category[3:] for category in os.listdir(\"raw_data\") if category.endswith(\".gz\") and category.startswith(\"qa\")]\n",
    "\n",
    "for category in tqdm(categories):\n",
    "    if not os.path.isfile(f\"raw_data/{category.split('.')[0]}.tsv\"):\n",
    "        try:\n",
    "            df1 = getDF(f'raw_data/qa_{category}')\n",
    "            df2 = getDF(f'raw_data/meta_{category}')\n",
    "\n",
    "            df = pd.merge(df1, df2, on=\"asin\", how=\"left\")\n",
    "            df = df[[\"question\", \"answer\", \"description\"]]\n",
    "            df = df.dropna()\n",
    "            df = df.drop_duplicates(subset=\"answer\")\n",
    "            print(df.head())\n",
    "\n",
    "            df.to_csv(f\"data/{category.split('.')[0]}.tsv\", \"\\t\")\n",
    "        except:\n",
    "            pass\n",
    "\n",
    "df = pd.concat((pd.read_csv(f\"data/{f}\", sep=\"\\t\") for f in os.listdir(\"data\") if f.endswith(\".tsv\")))\n",
    "df = df[[\"question\", \"description\"]]\n",
    "df[\"description\"] = df[\"description\"].apply(lambda x: x[2:-2])\n",
    "df.columns = [\"target_text\", \"input_text\"]\n",
    "df[\"prefix\"] = \"ask_question\"\n",
    "\n",
    "df.to_csv(f\"data/data_all.tsv\", \"\\t\")\n",
    "\n",
    "train_df, eval_df = train_test_split(df, test_size=0.05)\n",
    "\n"
   ]
  },
  {
   "cell_type": "code",
   "execution_count": 12,
   "id": "3ee7ff13-7eed-4696-9fd4-cd268ba34844",
   "metadata": {},
   "outputs": [],
   "source": [
    "train_df.reset_index(drop=True,inplace=True)\n",
    "eval_df.reset_index(drop=True,inplace=True)"
   ]
  },
  {
   "cell_type": "code",
   "execution_count": 13,
   "id": "75fa2818-a599-4718-871a-3db2457e3309",
   "metadata": {},
   "outputs": [
    {
     "data": {
      "text/html": [
       "<div>\n",
       "<style scoped>\n",
       "    .dataframe tbody tr th:only-of-type {\n",
       "        vertical-align: middle;\n",
       "    }\n",
       "\n",
       "    .dataframe tbody tr th {\n",
       "        vertical-align: top;\n",
       "    }\n",
       "\n",
       "    .dataframe thead th {\n",
       "        text-align: right;\n",
       "    }\n",
       "</style>\n",
       "<table border=\"1\" class=\"dataframe\">\n",
       "  <thead>\n",
       "    <tr style=\"text-align: right;\">\n",
       "      <th></th>\n",
       "      <th>target_text</th>\n",
       "      <th>input_text</th>\n",
       "      <th>prefix</th>\n",
       "    </tr>\n",
       "  </thead>\n",
       "  <tbody>\n",
       "    <tr>\n",
       "      <th>0</th>\n",
       "      <td>will lint screen filter 339392 fit lint screen...</td>\n",
       "      <td>This is an O.E.M authorized part. Fits various...</td>\n",
       "      <td>ask_question</td>\n",
       "    </tr>\n",
       "    <tr>\n",
       "      <th>1</th>\n",
       "      <td>Can you cut Laminated Paper with this Machine?</td>\n",
       "      <td>The Cricut Expression Personal Electronic Cutt...</td>\n",
       "      <td>ask_question</td>\n",
       "    </tr>\n",
       "    <tr>\n",
       "      <th>2</th>\n",
       "      <td>Do these bobbins fit the 750 Golden Touch and sew</td>\n",
       "      <td>FITS: Singer 1000G Singer 1040G Singer 1060 Si...</td>\n",
       "      <td>ask_question</td>\n",
       "    </tr>\n",
       "    <tr>\n",
       "      <th>3</th>\n",
       "      <td>Does 100PCS mean 100 bails for 9.99 ?</td>\n",
       "      <td>Bail approx 21mm in total,heart 10mm,Bright si...</td>\n",
       "      <td>ask_question</td>\n",
       "    </tr>\n",
       "    <tr>\n",
       "      <th>4</th>\n",
       "      <td>Does anyone know of a comparable quality pen w...</td>\n",
       "      <td>Kuretake No. 8 Fountain Brush Pen</td>\n",
       "      <td>ask_question</td>\n",
       "    </tr>\n",
       "  </tbody>\n",
       "</table>\n",
       "</div>"
      ],
      "text/plain": [
       "                                         target_text  \\\n",
       "0  will lint screen filter 339392 fit lint screen...   \n",
       "1     Can you cut Laminated Paper with this Machine?   \n",
       "2  Do these bobbins fit the 750 Golden Touch and sew   \n",
       "3              Does 100PCS mean 100 bails for 9.99 ?   \n",
       "4  Does anyone know of a comparable quality pen w...   \n",
       "\n",
       "                                          input_text        prefix  \n",
       "0  This is an O.E.M authorized part. Fits various...  ask_question  \n",
       "1  The Cricut Expression Personal Electronic Cutt...  ask_question  \n",
       "2  FITS: Singer 1000G Singer 1040G Singer 1060 Si...  ask_question  \n",
       "3  Bail approx 21mm in total,heart 10mm,Bright si...  ask_question  \n",
       "4                  Kuretake No. 8 Fountain Brush Pen  ask_question  "
      ]
     },
     "execution_count": 13,
     "metadata": {},
     "output_type": "execute_result"
    }
   ],
   "source": [
    "train_df.head()"
   ]
  },
  {
   "cell_type": "code",
   "execution_count": 14,
   "id": "a8fc47be-8df7-4682-b270-0643396f9610",
   "metadata": {},
   "outputs": [],
   "source": [
    "train_df.to_csv(\"data/train_df.tsv\", \"\\t\")\n",
    "eval_df.to_csv(\"data/eval_df.tsv\", \"\\t\")"
   ]
  },
  {
   "cell_type": "code",
   "execution_count": null,
   "id": "299efb61-29cd-4cc9-8e6d-10cfcf9fbbd6",
   "metadata": {},
   "outputs": [],
   "source": []
  },
  {
   "cell_type": "code",
   "execution_count": null,
   "id": "adb617b0-41cc-4a39-8455-c9c160ce9134",
   "metadata": {},
   "outputs": [],
   "source": []
  }
 ],
 "metadata": {
  "kernelspec": {
   "display_name": "Python 3 (ipykernel)",
   "language": "python",
   "name": "python3"
  },
  "language_info": {
   "codemirror_mode": {
    "name": "ipython",
    "version": 3
   },
   "file_extension": ".py",
   "mimetype": "text/x-python",
   "name": "python",
   "nbconvert_exporter": "python",
   "pygments_lexer": "ipython3",
   "version": "3.9.7"
  }
 },
 "nbformat": 4,
 "nbformat_minor": 5
}
