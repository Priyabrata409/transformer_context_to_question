{
 "cells": [
  {
   "cell_type": "code",
   "execution_count": 1,
   "id": "b7ce85dc-c81a-464a-9bee-6aee69abd72f",
   "metadata": {},
   "outputs": [],
   "source": [
    "\n",
    "from simpletransformers.t5 import T5Model\n",
    "\n",
    "\n",
    "model_args = {\n",
    "    \"reprocess_input_data\": True,\n",
    "    \"overwrite_output_dir\": True,\n",
    "    \"max_seq_length\": 128,\n",
    "    \"eval_batch_size\": 4,\n",
    "    \"num_train_epochs\": 1,\n",
    "    \"save_eval_checkpoints\": False,\n",
    "    \"use_multiprocessing\": False,\n",
    "    # \"silent\": True,\n",
    "    \"num_beams\": None,\n",
    "    \"do_sample\": True,\n",
    "    \"max_length\": 50,\n",
    "    \"top_k\": 50,\n",
    "    \"top_p\": 0.95,\n",
    "    \"num_return_sequences\": 3,\n",
    "}\n",
    "\n",
    "model = T5Model(model_name=\"outputs/best_model\",model_type=\"t5\", args=model_args)"
   ]
  },
  {
   "cell_type": "code",
   "execution_count": 2,
   "id": "0249e009-2405-4abc-90d0-f2e0f4c7b3c9",
   "metadata": {},
   "outputs": [
    {
     "data": {
      "application/vnd.jupyter.widget-view+json": {
       "model_id": "5d8ff49f1c3447c7be4275106d7d471f",
       "version_major": 2,
       "version_minor": 0
      },
      "text/plain": [
       "Generating outputs:   0%|          | 0/1 [00:00<?, ?it/s]"
      ]
     },
     "metadata": {},
     "output_type": "display_data"
    },
    {
     "name": "stderr",
     "output_type": "stream",
     "text": [
      "C:\\Users\\priyabrata\\anaconda3\\envs\\nlp_env\\lib\\site-packages\\transformers\\tokenization_utils_base.py:3415: FutureWarning: \n",
      "`prepare_seq2seq_batch` is deprecated and will be removed in version 5 of HuggingFace Transformers. Use the regular\n",
      "`__call__` method to prepare your inputs and the tokenizer under the `as_target_tokenizer` context manager to prepare\n",
      "your targets.\n",
      "\n",
      "Here is a short example:\n",
      "\n",
      "model_inputs = tokenizer(src_texts, ...)\n",
      "with tokenizer.as_target_tokenizer():\n",
      "    labels = tokenizer(tgt_texts, ...)\n",
      "model_inputs[\"labels\"] = labels[\"input_ids\"]\n",
      "\n",
      "See the documentation of your specific tokenizer for more details on the specific arguments to the tokenizer of choice.\n",
      "For a more complete example, see the implementation of `prepare_seq2seq_batch`.\n",
      "\n",
      "  warnings.warn(formatted_warning, FutureWarning)\n"
     ]
    },
    {
     "data": {
      "application/vnd.jupyter.widget-view+json": {
       "model_id": "2d9ff029080c4c028f97f833cc21e0b8",
       "version_major": 2,
       "version_minor": 0
      },
      "text/plain": [
       "Decoding outputs:   0%|          | 0/3 [00:00<?, ?it/s]"
      ]
     },
     "metadata": {},
     "output_type": "display_data"
    },
    {
     "name": "stdout",
     "output_type": "stream",
     "text": [
      "[['does it fit kenmore 30.4465772990320?', 'will this work on model mvwb6700lxspxxy', 'is this compatible on model number pxs14 vsmwq?']]\n"
     ]
    }
   ],
   "source": [
    "\n",
    "query = \"ask_question: \" + \"\"\"This is an O.E.M authorized part. Fits various whirlpool models. Oem part number 339392. Made in united states.\n",
    "\"\"\"\n",
    "\n",
    "preds = model.predict([query])\n",
    "\n",
    "print(preds)"
   ]
  },
  {
   "cell_type": "code",
   "execution_count": null,
   "id": "ed81b05e-ac1d-4bad-8979-a823102e9ac4",
   "metadata": {},
   "outputs": [],
   "source": []
  }
 ],
 "metadata": {
  "kernelspec": {
   "display_name": "Python 3 (ipykernel)",
   "language": "python",
   "name": "python3"
  },
  "language_info": {
   "codemirror_mode": {
    "name": "ipython",
    "version": 3
   },
   "file_extension": ".py",
   "mimetype": "text/x-python",
   "name": "python",
   "nbconvert_exporter": "python",
   "pygments_lexer": "ipython3",
   "version": "3.9.7"
  }
 },
 "nbformat": 4,
 "nbformat_minor": 5
}
